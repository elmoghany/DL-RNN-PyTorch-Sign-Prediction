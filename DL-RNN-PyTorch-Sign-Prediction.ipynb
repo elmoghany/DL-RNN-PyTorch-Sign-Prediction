{
 "cells": [
  {
   "cell_type": "code",
   "execution_count": 64,
   "metadata": {},
   "outputs": [],
   "source": [
    "import torch\n",
    "import torch.functional as F\n",
    "import torch.nn as nn\n",
    "import numpy as np\n",
    "import matplotlib.pyplot as plt"
   ]
  },
  {
   "cell_type": "code",
   "execution_count": 27,
   "metadata": {},
   "outputs": [
    {
     "data": {
      "text/plain": [
       "tensor([[[0.9833, 0.6632, 0.4742],\n",
       "         [0.1435, 0.6430, 0.6656]],\n",
       "\n",
       "        [[0.6432, 0.5328, 0.9737],\n",
       "         [0.7002, 0.3821, 0.9564]],\n",
       "\n",
       "        [[0.8057, 0.5669, 0.9567],\n",
       "         [0.6552, 0.1155, 0.5405]],\n",
       "\n",
       "        [[0.2808, 0.0602, 0.0441],\n",
       "         [0.4063, 0.5970, 0.6871]],\n",
       "\n",
       "        [[0.2798, 0.0726, 0.4740],\n",
       "         [0.3166, 0.7893, 0.8192]]])"
      ]
     },
     "execution_count": 27,
     "metadata": {},
     "output_type": "execute_result"
    }
   ],
   "source": [
    "#first commit\n",
    "# num matrices * batchsize * num inputs\n",
    "X = torch.rand(5, 2, 3)\n",
    "X"
   ]
  },
  {
   "cell_type": "code",
   "execution_count": 28,
   "metadata": {},
   "outputs": [],
   "source": [
    "# Import the data\n",
    "N = 50\n",
    "\n",
    "data = torch.zeros(N)\n",
    "\n",
    "for i in range(N):\n",
    "    data[i] = torch.rand(1) * (-1)**i"
   ]
  },
  {
   "cell_type": "code",
   "execution_count": 103,
   "metadata": {},
   "outputs": [],
   "source": [
    "# Create the Deep Learning Model\n",
    "def createTheNet(printtoggle, input_size, num_hidden, num_layers, actfun, bias, batchsize):\n",
    "    class rnnClassNet(nn.Module):\n",
    "        def __init__(self, input_size, num_hidden, num_layers, actfun, bias, batchsize):\n",
    "            \n",
    "            super().__init__()\n",
    "            self.printT = printtoggle\n",
    "            \n",
    "            # Store Parameters\n",
    "            self.input_size = input_size\n",
    "            self.num_hidden = num_hidden\n",
    "            self.num_layers = num_layers\n",
    "            self.actfun = actfun\n",
    "            self.bias = bias\n",
    "            self.batchsize = batchsize\n",
    "            \n",
    "            # # # ----- RNN layers ------ # # #\n",
    "            # nn.RNN(input_size, num_hidden)\n",
    "            self.rnn = nn.RNN(input_size, num_hidden,  num_layers,\n",
    "                              nonlinearity= self.actfun, bias=self.bias)\n",
    "            \n",
    "            # # # ----- linear layer ------ # # #\n",
    "            self.out = nn.Linear(num_hidden, 1)\n",
    "            \n",
    "        def forward(self,x):\n",
    "            \n",
    "            # initialize hidden state for first input\n",
    "            hidden = torch.zeros(self.num_layers, self.batchsize, self.num_hidden)\n",
    "            if self.printT: print(f'Hidden: {list(hidden.shape)}')\n",
    "            \n",
    "            # run through the RNN layer\n",
    "            y, hidden = self.rnn(x, hidden)\n",
    "            if self.printT: print(f'RNN-out: {list(y.shape)}')\n",
    "            if self.printT: print(f'RNN-Hidden: {list(hidden.shape)}')\n",
    "            \n",
    "            # pass the rnn output through linear layer\n",
    "            o = self.out(y)\n",
    "            if self.printT: print(f'Output: {list(o.shape)}')\n",
    "            \n",
    "            return o, hidden\n",
    "    \n",
    "    modelInstance = rnnClassNet(input_size, num_hidden, num_layers, actfun, bias, batchsize)\n",
    "\n",
    "    lossfun = nn.MSELoss()\n",
    "    \n",
    "    optimizer = torch.optim.SGD(modelInstance.parameters(), lr=0.001)\n",
    "    \n",
    "    return modelInstance, lossfun, optimizer"
   ]
  },
  {
   "cell_type": "code",
   "execution_count": 104,
   "metadata": {},
   "outputs": [],
   "source": [
    "# network parameters\n",
    "input_size = 1  # channels/features of data\n",
    "num_hidden = 16 # breadth of model (number of hidden layers)\n",
    "num_layers = 1  # depth of model   (number of stacks of hidden layers)\n",
    "seqlength  = 9  # num of data points used for learning in each segment \n",
    "batchsize  = 1  # number of batches of selength\n",
    "actfun = 'tanh'\n",
    "bias = True\n",
    "#N = 50          # number of data units"
   ]
  },
  {
   "cell_type": "code",
   "execution_count": 105,
   "metadata": {},
   "outputs": [
    {
     "name": "stdout",
     "output_type": "stream",
     "text": [
      "rnnClassNet(\n",
      "  (rnn): RNN(1, 16)\n",
      "  (out): Linear(in_features=16, out_features=1, bias=True)\n",
      ")\n",
      "rnn.weight_ih_l0 has size [16, 1]\n",
      "rnn.weight_hh_l0 has size [16, 16]\n",
      "rnn.bias_ih_l0 has size [16]\n",
      "rnn.bias_hh_l0 has size [16]\n",
      "out.weight has size [1, 16]\n",
      "out.bias has size [1]\n"
     ]
    }
   ],
   "source": [
    "#Test with 1 batch\n",
    "net2, lossfun2, optimizer2 = createTheNet(True, input_size, num_hidden, num_layers, actfun, bias, batchsize)\n",
    "print(net2)\n",
    "\n",
    "#check all learnable parameters\n",
    "for p in net2.named_parameters():\n",
    "    print(f'{p[0]} has size {list(p[1].shape)}')"
   ]
  },
  {
   "cell_type": "code",
   "execution_count": 106,
   "metadata": {},
   "outputs": [
    {
     "name": "stdout",
     "output_type": "stream",
     "text": [
      "Hidden: [1, 1, 16]\n",
      "RNN-out: [9, 1, 16]\n",
      "RNN-Hidden: [1, 1, 16]\n",
      "Output: [9, 1, 1]\n"
     ]
    },
    {
     "data": {
      "text/plain": [
       "tensor(0.5104, grad_fn=<MseLossBackward0>)"
      ]
     },
     "execution_count": 106,
     "metadata": {},
     "output_type": "execute_result"
    }
   ],
   "source": [
    "# test the model with some data\n",
    "# convert 1d array into tensor\n",
    "# X = data[:seqlength].view(seqlength, 1, 1)\n",
    "\n",
    "num_outputs = 1\n",
    "X = torch.rand(seqlength, batchsize, input_size)\n",
    "y = torch.rand(seqlength, batchsize, num_outputs)\n",
    "yHat, h = net2(X)\n",
    "\n",
    "# try a loss function\n",
    "lossfun = nn.MSELoss()\n",
    "lossfun(yHat, y)\n"
   ]
  },
  {
   "cell_type": "code",
   "execution_count": 107,
   "metadata": {},
   "outputs": [],
   "source": [
    "# Train the Model\n",
    "\n",
    "def trainTheModel(trainedModel, lossfun, optimizer, epochs=30):\n",
    "    \n",
    "    #number of epochs to train\n",
    "    numepochs = epochs\n",
    "    trainedModel.train()\n",
    "        \n",
    "    #initialize losses & accuracy\n",
    "    trainLoss   = torch.zeros(numepochs)\n",
    "    trainAcc    = torch.zeros(numepochs)\n",
    "    testLoss    = torch.zeros(numepochs)\n",
    "    testAcc     = torch.zeros(numepochs)\n",
    "\n",
    "    for epochi in range(numepochs):\n",
    "        \n",
    "        #batch loss & accuracy\n",
    "        trainSegLoss = []\n",
    "        trainSegAcc  = []\n",
    "        hidden_state = torch.zeros(num_layers, batchsize, num_hidden) # reset the hidden state\n",
    "        \n",
    "        #loop over data segments / sequences\n",
    "        for timei in range(N-seqlength):\n",
    "            \n",
    "            # Grab a snippet of data\n",
    "            X = data[timei:timei+seqlength].view(seqlength, batchsize, input_size)\n",
    "            y = data[timei+seqlength].view(batchsize, 1)\n",
    "            \n",
    "            # push data to GPU\n",
    "            # X = X.to(device)\n",
    "            # y = y.to(device)\n",
    "            \n",
    "            #Forward pass & loss\n",
    "            yHat, hidden_state = trainedModel(X)\n",
    "            finalValue = yHat[-1]\n",
    "            loss = lossfun(finalValue, y)\n",
    "            \n",
    "            #backprop\n",
    "            optimizer.zero_grad()\n",
    "            loss.backward()\n",
    "            optimizer.step()\n",
    "            \n",
    "            #loss from this batch\n",
    "            trainSegLoss.append(loss.item())\n",
    "            \n",
    "            #accuracy from this batch -> for BCE sigmoid\n",
    "            # trainTrueSign = np.sign(torch.squeeze(y).numpy()) ##\n",
    "            # trainPredSign = np.sign(torch.squeeze(finalValue).detach().numpy())##\n",
    "            # trainSegAcc.append( 100*(trainTrueSign == trainPredSign) )\n",
    "            trainTrueSign = torch.sign(y) ##\n",
    "            trainPredSign = torch.sign(finalValue) ##\n",
    "            trainSegAcc.append( 100*(trainTrueSign == trainPredSign) )\n",
    "        \n",
    "        #average accuracy across mini-batches\n",
    "        # trainAcc[epochi]  = np.mean(trainSegAcc)\n",
    "        trainAcc[epochi]  = torch.tensor(trainSegAcc).float().mean()\n",
    "        \n",
    "        #average losses across all mini-batches\n",
    "        # trainLoss[epochi] = np.mean(trainSegLoss)\n",
    "        trainLoss[epochi] = torch.tensor(trainSegLoss).float().mean()\n",
    "        \n",
    "    return trainAcc, trainLoss, trainedModel"
   ]
  },
  {
   "cell_type": "code",
   "execution_count": 108,
   "metadata": {},
   "outputs": [],
   "source": [
    "# Test the training code that it has NO ERRORS\n",
    "epochs=1\n",
    "myModelInstance2, lossfun2, optimizer2 = createTheNet(False, input_size, num_hidden, num_layers, actfun, bias, batchsize)\n",
    "trainAcc2, trainLoss2, trainedModel2 = trainTheModel(myModelInstance2, lossfun2, optimizer2, epochs)"
   ]
  },
  {
   "cell_type": "code",
   "execution_count": 109,
   "metadata": {},
   "outputs": [],
   "source": [
    "# Train the Model\n",
    "myModelInstance, lossfun, optimizer = createTheNet(False, input_size, num_hidden, num_layers, actfun, bias, batchsize)\n",
    "trainAcc, trainLoss, trainedModel = trainTheModel(myModelInstance, lossfun, optimizer)\n"
   ]
  },
  {
   "cell_type": "code",
   "execution_count": 110,
   "metadata": {},
   "outputs": [
    {
     "data": {
      "image/png": "[encoded data removed]",
      "text/plain": [
       "<Figure size 1000x500 with 2 Axes>"
      ]
     },
     "metadata": {},
     "output_type": "display_data"
    }
   ],
   "source": [
    "fig,ax = plt.subplots(1,2,figsize=(10,5))\n",
    "\n",
    "ax[0].plot(trainLoss, label='Train')\n",
    "# ax[0].plot(testLoss, label='Dev')\n",
    "# ax[0].legend()\n",
    "ax[0].set_xlabel('Epochs')\n",
    "ax[0].set_ylabel('Loss')\n",
    "ax[0].set_title('Model Loss')\n",
    "ax[0].set_xlim([0,30])\n",
    "\n",
    "ax[1].plot(trainAcc, 'm^-', markerfacecolor='g', markersize=15, label='Train')\n",
    "# ax[1].plot(testAcc, label='Test')\n",
    "ax[1].legend()\n",
    "ax[1].set_xlabel('Epochs')\n",
    "ax[1].set_ylabel('Accuracy')\n",
    "ax[1].set_title(f'Train sign accuracy {trainAcc[-1]:.2f}%')\n",
    "ax[1].set_ylim([0,110])\n",
    "ax[1].set_xlim([0,30])\n",
    "\n",
    "plt.show()"
   ]
  },
  {
   "cell_type": "code",
   "execution_count": null,
   "metadata": {},
   "outputs": [],
   "source": []
  },
  {
   "cell_type": "code",
   "execution_count": null,
   "metadata": {},
   "outputs": [],
   "source": []
  }
 ],
 "metadata": {
  "kernelspec": {
   "display_name": "Python 3",
   "language": "python",
   "name": "python3"
  },
  "language_info": {
   "codemirror_mode": {
    "name": "ipython",
    "version": 3
   },
   "file_extension": ".py",
   "mimetype": "text/x-python",
   "name": "python",
   "nbconvert_exporter": "python",
   "pygments_lexer": "ipython3",
   "version": "3.11.0"
  }
 },
 "nbformat": 4,
 "nbformat_minor": 2
}
