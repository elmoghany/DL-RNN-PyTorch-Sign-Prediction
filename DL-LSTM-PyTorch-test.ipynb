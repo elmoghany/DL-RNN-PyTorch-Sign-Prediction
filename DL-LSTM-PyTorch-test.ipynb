{
 "cells": [
  {
   "cell_type": "code",
   "execution_count": 1,
   "metadata": {},
   "outputs": [],
   "source": [
    "import torch\n",
    "import torch.functional as F\n",
    "import torch.nn as nn "
   ]
  },
  {
   "cell_type": "code",
   "execution_count": 2,
   "metadata": {},
   "outputs": [
    {
     "data": {
      "text/plain": [
       "tensor([[[0.5280, 0.6960, 0.6487],\n",
       "         [0.2020, 0.3919, 0.3875]],\n",
       "\n",
       "        [[0.8453, 0.1299, 0.2717],\n",
       "         [0.9909, 0.7876, 0.3902]],\n",
       "\n",
       "        [[0.3232, 0.0219, 0.3882],\n",
       "         [0.0493, 0.6217, 0.7488]],\n",
       "\n",
       "        [[0.8587, 0.2774, 0.2679],\n",
       "         [0.2423, 0.6294, 0.3516]],\n",
       "\n",
       "        [[0.1095, 0.9288, 0.3985],\n",
       "         [0.5627, 0.7942, 0.0010]]])"
      ]
     },
     "execution_count": 2,
     "metadata": {},
     "output_type": "execute_result"
    }
   ],
   "source": [
    "#first commit\n",
    "# num matrices * batchsize * num inputs\n",
    "X = torch.rand(5, 2, 3)\n",
    "X"
   ]
  },
  {
   "cell_type": "code",
   "execution_count": 14,
   "metadata": {},
   "outputs": [],
   "source": [
    "# Create the Deep Learning Model\n",
    "def createTheNet(printtoggle, input_size, num_hidden, num_layers, actfun, bias, batchsize):\n",
    "    class rnnClassNet(nn.Module):\n",
    "        def __init__(self, input_size, num_hidden, num_layers, actfun, bias, batchsize):\n",
    "            \n",
    "            super().__init__()\n",
    "            self.printT = printtoggle\n",
    "            \n",
    "            # Store Parameters\n",
    "            self.input_size = input_size\n",
    "            self.num_hidden = num_hidden\n",
    "            self.num_layers = num_layers\n",
    "            self.actfun = actfun\n",
    "            self.bias = bias\n",
    "            self.batchsize = batchsize\n",
    "            \n",
    "            # # # ----- RNN layers ------ # # #\n",
    "            # nn.RNN(input_size, num_hidden)\n",
    "            self.rnn = nn.RNN(input_size, num_hidden,  num_layers,\n",
    "                              nonlinearity= self.actfun, bias=self.bias)\n",
    "            \n",
    "            # # # ----- linear layer ------ # # #\n",
    "            self.out = nn.Linear(num_hidden, 1)\n",
    "            \n",
    "        def forward(self,x):\n",
    "            \n",
    "            # initialize hidden state for first input\n",
    "            hidden = torch.zeros(self.num_layers, self.batchsize, self.num_hidden)\n",
    "            if self.printT: print(f'Hidden: {list(hidden.shape)}')\n",
    "            \n",
    "            # run through the RNN layer\n",
    "            y, hidden = self.rnn(x, hidden)\n",
    "            if self.printT: print(f'RNN-out: {list(y.shape)}')\n",
    "            if self.printT: print(f'RNN-Hidden: {list(hidden.shape)}')\n",
    "            \n",
    "            # pass the rnn output through linear layer\n",
    "            o = self.out(y)\n",
    "            if self.printT: print(f'Output: {list(o.shape)}')\n",
    "            \n",
    "            return o, hidden\n",
    "    \n",
    "    modelInstance = rnnClassNet(input_size, num_hidden, num_layers, actfun, bias, batchsize)\n",
    "\n",
    "    lossfun = nn.BCEWithLogitsLoss()\n",
    "    \n",
    "    optimizer = torch.optim.Adam(modelInstance.parameters(), lr=0.001)\n",
    "    \n",
    "    return modelInstance, lossfun, optimizer"
   ]
  },
  {
   "cell_type": "code",
   "execution_count": 19,
   "metadata": {},
   "outputs": [],
   "source": [
    "# network parameters\n",
    "input_size = 9  # channels/features of data\n",
    "num_hidden = 16 # breadth of model (number of hidden layers)\n",
    "num_layers = 1  # depth of model   (number of stacks of hidden layers)\n",
    "seqlength  = 5  # num of data points used for learning in each segment \n",
    "batchsize  = 4  # number of batches of selength\n",
    "actfun = 'tanh'\n",
    "bias = True"
   ]
  },
  {
   "cell_type": "code",
   "execution_count": 20,
   "metadata": {},
   "outputs": [
    {
     "name": "stdout",
     "output_type": "stream",
     "text": [
      "rnnClassNet(\n",
      "  (rnn): RNN(9, 16)\n",
      "  (out): Linear(in_features=16, out_features=1, bias=True)\n",
      ")\n",
      "rnn.weight_ih_l0 has size [16, 9]\n",
      "rnn.weight_hh_l0 has size [16, 16]\n",
      "rnn.bias_ih_l0 has size [16]\n",
      "rnn.bias_hh_l0 has size [16]\n",
      "out.weight has size [1, 16]\n",
      "out.bias has size [1]\n"
     ]
    }
   ],
   "source": [
    "#Test with 1 batch\n",
    "net2, lossfun2, optimizer2 = createTheNet(True, input_size, num_hidden, num_layers, actfun, bias, batchsize)\n",
    "print(net2)\n",
    "\n",
    "#check all learnable parameters\n",
    "for p in net2.named_parameters():\n",
    "    print(f'{p[0]} has size {list(p[1].shape)}')"
   ]
  },
  {
   "cell_type": "code",
   "execution_count": 21,
   "metadata": {},
   "outputs": [
    {
     "name": "stdout",
     "output_type": "stream",
     "text": [
      "Hidden: [1, 4, 16]\n",
      "RNN-out: [5, 4, 16]\n",
      "RNN-Hidden: [1, 4, 16]\n",
      "Output: [5, 4, 1]\n"
     ]
    },
    {
     "data": {
      "text/plain": [
       "tensor(0.3350, grad_fn=<MseLossBackward0>)"
      ]
     },
     "execution_count": 21,
     "metadata": {},
     "output_type": "execute_result"
    }
   ],
   "source": [
    "# test the model with some data\n",
    "X = torch.rand(seqlength, batchsize, input_size)\n",
    "y = torch.rand(seqlength, batchsize, 1)\n",
    "yHat, h = net2(X)\n",
    "\n",
    "# try a loss function\n",
    "lossfun = nn.MSELoss()\n",
    "lossfun(yHat, y)\n"
   ]
  },
  {
   "cell_type": "code",
   "execution_count": null,
   "metadata": {},
   "outputs": [],
   "source": []
  }
 ],
 "metadata": {
  "kernelspec": {
   "display_name": "Python 3",
   "language": "python",
   "name": "python3"
  },
  "language_info": {
   "codemirror_mode": {
    "name": "ipython",
    "version": 3
   },
   "file_extension": ".py",
   "mimetype": "text/x-python",
   "name": "python",
   "nbconvert_exporter": "python",
   "pygments_lexer": "ipython3",
   "version": "3.11.0"
  }
 },
 "nbformat": 4,
 "nbformat_minor": 2
}
